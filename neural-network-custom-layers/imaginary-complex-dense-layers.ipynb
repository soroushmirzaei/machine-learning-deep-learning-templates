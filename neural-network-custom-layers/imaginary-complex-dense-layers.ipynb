{
  "nbformat": 4,
  "nbformat_minor": 0,
  "metadata": {
    "colab": {
      "name": "imaginary-complex-dense-layers.ipynb",
      "provenance": [],
      "collapsed_sections": [],
      "authorship_tag": "ABX9TyMHxNAhrGkMsGrowofWgx80",
      "include_colab_link": true
    },
    "kernelspec": {
      "name": "python3",
      "display_name": "Python 3"
    },
    "language_info": {
      "name": "python"
    }
  },
  "cells": [
    {
      "cell_type": "markdown",
      "metadata": {
        "id": "view-in-github",
        "colab_type": "text"
      },
      "source": [
        "<a href=\"https://colab.research.google.com/github/soroushmirzaei/projects-notebook-templates/blob/main/neural-network-custom-layers/imaginary-complex-dense-layers.ipynb\" target=\"_parent\"><img src=\"https://colab.research.google.com/assets/colab-badge.svg\" alt=\"Open In Colab\"/></a>"
      ]
    },
    {
      "cell_type": "code",
      "execution_count": null,
      "metadata": {
        "id": "2uRtaFczFLqh"
      },
      "outputs": [],
      "source": [
        "#import mathematics statistics libraries\n",
        "import numpy as np\n",
        "import pandas as pd\n",
        "\n",
        "#import machine learning deep learning libraries\n",
        "import tensorflow as tf\n",
        "from tensorflow import keras\n"
      ]
    },
    {
      "cell_type": "code",
      "source": [
        "class ComplexDense(keras.layers.Layer):\n",
        "    def __init__(self, units, activation = None, use_bias = True,\n",
        "                 kernel_real_initializer='glorot_normal', kernel_imag_initializer='glorot_normal', bias_initializer='zeros', **kwargs):\n",
        "        super(ComplexDense, self).__init__(**kwargs)\n",
        "        self.units = units\n",
        "        self.use_bias = use_bias\n",
        "        self.activation = keras.activations.get(activation)\n",
        "        self.kernel_real_initializer = keras.initializers.get(kernel_real_initializer)\n",
        "        self.kernel_imag_initializer = keras.initializers.get(kernel_imag_initializer)\n",
        "        self.bias_initializer = keras.initializers.get(bias_initializer)\n",
        "\n",
        "    def build(self, input_shape):\n",
        "        w_init_real = self.kernel_real_initializer\n",
        "        self.w_real = tf.Variable(initial_value = w_init_real(shape = (input_shape[-1], self.units), dtype = tf.float32),\n",
        "                                  name = 'kernel_real', trainable = True)\n",
        "        \n",
        "        w_init_imag = self.kernel_imag_initializer\n",
        "        self.w_imag = tf.Variable(initial_value = w_init_imag(shape = (input_shape[-1], self.units), dtype = tf.float32),\n",
        "                                  name = 'kernel_imag', trainable = True)\n",
        "        \n",
        "        if self.use_bias:\n",
        "            b_init_real = self.bias_initializer\n",
        "            self.b_real = tf.Variable(initial_value = b_init_real(shape = (self.units,), dtype = tf.float32),\n",
        "                                      name = 'bias_real', trainable = True)\n",
        "        \n",
        "    def call(self, inputs):\n",
        "        real_prod = tf.matmul(tf.math.real(inputs), self.w_real) - tf.matmul(tf.math.imag(inputs), self.w_imag)\n",
        "        imag_prod = tf.matmul(tf.math.imag(inputs), self.w_real) + tf.matmul(tf.math.real(inputs), self.w_imag)\n",
        "        if self.use_bias:\n",
        "            act_sum = self.activation(real_prod + imag_prod + self.b_real)\n",
        "        else:\n",
        "            act_sum = self.activation(real_prod + imag_prod)\n",
        "        return act_sum\n"
      ],
      "metadata": {
        "id": "aRxEb8_SyoET"
      },
      "execution_count": null,
      "outputs": []
    }
  ]
}