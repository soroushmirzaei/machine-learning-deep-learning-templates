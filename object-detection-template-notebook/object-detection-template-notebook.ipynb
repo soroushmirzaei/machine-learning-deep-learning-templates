{
  "cells": [
    {
      "cell_type": "markdown",
      "metadata": {
        "id": "view-in-github",
        "colab_type": "text"
      },
      "source": [
        "<a href=\"https://colab.research.google.com/github/soroushmirzaei/projects-notebook-templates/blob/main/object-detection-template-notebook/object-detection-template-notebook.ipynb\" target=\"_parent\"><img src=\"https://colab.research.google.com/assets/colab-badge.svg\" alt=\"Open In Colab\"/></a>"
      ]
    },
    {
      "cell_type": "code",
      "execution_count": null,
      "metadata": {
        "id": "2uRtaFczFLqh"
      },
      "outputs": [],
      "source": [
        "#import mathematics statistics libraries\n",
        "import numpy as np\n",
        "\n",
        "#import visualization libraries\n",
        "import matplotlib.pyplot as plt\n",
        "\n",
        "#import machine learning deep learning libraries\n",
        "import tensorflow as tf\n",
        "import tensorflow_hub as hub\n",
        "from tensorflow import keras\n",
        "\n",
        "%matplotlib inline\n"
      ]
    },
    {
      "cell_type": "code",
      "source": [
        "# Clone the tensorflow models repository\n",
        "!git clone --depth 1 https://github.com/tensorflow/models\n"
      ],
      "metadata": {
        "id": "Qp_ekL2ODr1O"
      },
      "execution_count": null,
      "outputs": []
    },
    {
      "cell_type": "code",
      "source": [
        "%%bash\n",
        "sudo apt install -y protobuf-compiler\n",
        "cd models/research/\n",
        "protoc object_detection/protos/*.proto --python_out=.\n",
        "cp object_detection/packages/tf2/setup.py .\n",
        "python -m pip install .\n"
      ],
      "metadata": {
        "id": "f8n97qOBnJsf"
      },
      "execution_count": null,
      "outputs": []
    },
    {
      "cell_type": "code",
      "source": [
        "from object_detection.utils import label_map_util\n",
        "from object_detection.utils import visualization_utils as viz_utils\n",
        "from object_detection.utils import ops as utils_ops\n"
      ],
      "metadata": {
        "id": "mcBK7sAknMey"
      },
      "execution_count": null,
      "outputs": []
    },
    {
      "cell_type": "code",
      "source": [
        "#@markdown Define Tensorflow Hub Module Handler Url\n",
        "module_handle = \"\" #@param {type:\"string\"}\n",
        "detector = hub.load(module_handle).signatures['default']\n"
      ],
      "metadata": {
        "id": "zucQy5dqwpnK"
      },
      "execution_count": null,
      "outputs": []
    },
    {
      "cell_type": "code",
      "source": [
        "#@markdown Define Image File Name\n",
        "image_filename = \"\" #@param {type:\"string\"}\n",
        "img = keras.preprocessing.image.load_img(image_filename)\n",
        "img = keras.preprocessing.image.img_to_array(img)\n",
        "\n",
        "image_height = 0 #@param {type:\"number\"}\n",
        "image_width = 0 #@param {type:\"number\"}\n",
        "img = tf.image.resize(img, (image_height, image_width))\n",
        "img = tf.expand_dims(img, 0)\n"
      ],
      "metadata": {
        "id": "MFTXlezTwosR"
      },
      "execution_count": null,
      "outputs": []
    },
    {
      "cell_type": "code",
      "source": [
        "results = detector(img/255)\n"
      ],
      "metadata": {
        "id": "AYH2PW2hzfAk"
      },
      "execution_count": null,
      "outputs": []
    },
    {
      "cell_type": "code",
      "source": [
        "ind_cat = dict(zip(results['detection_class_labels'].numpy(), results['detection_class_entities'].numpy()))\n",
        "ind_cat = [{'id':key, 'name':value} for key, value in ind_cat.items()]\n",
        "\n",
        "category_index = label_map_util.create_category_index(ind_cat)\n"
      ],
      "metadata": {
        "id": "VW-pJkd02JF8"
      },
      "execution_count": null,
      "outputs": []
    },
    {
      "cell_type": "code",
      "source": [
        "image_copy = img.numpy()[0].copy()\n",
        "image_copy = viz_utils.visualize_boxes_and_labels_on_image_array(image = image_copy,\n",
        "                                                                 category_index = category_index,\n",
        "                                                                 boxes = results['detection_boxes'].numpy(),\n",
        "                                                                 classes = results['detection_class_labels'].numpy(),\n",
        "                                                                 scores = results['detection_scores'].numpy(),\n",
        "                                                                 use_normalized_coordinates=True,\n",
        "                                                                 min_score_thresh = 0.7)\n"
      ],
      "metadata": {
        "id": "3XD9xM-F1crp"
      },
      "execution_count": null,
      "outputs": []
    },
    {
      "cell_type": "code",
      "source": [
        "#@markdown Define Output Image File Properties\n",
        "output_image_height =  0 #@param {type:\"number\"}\n",
        "output_image_width =  0 #@param {type:\"number\"}\n",
        "dot_per_inch =  0 #@param {type:\"number\"}\n",
        "\n",
        "plt.figure(figsize = (output_image_height/dot_per_inch, output_image_width/dot_per_inch), dpi = dot_per_inch)\n",
        "plt.axis('off')\n",
        "plt.imshow(image_copy/255)\n",
        "plt.show()\n"
      ],
      "metadata": {
        "id": "uCw0roY43U2i"
      },
      "execution_count": null,
      "outputs": []
    }
  ],
  "metadata": {
    "colab": {
      "collapsed_sections": [],
      "name": "object-detection-template-notebook.ipynb",
      "provenance": [],
      "include_colab_link": true
    },
    "gpuClass": "standard",
    "kernelspec": {
      "display_name": "Python 3",
      "name": "python3"
    },
    "language_info": {
      "name": "python"
    },
    "accelerator": "GPU"
  },
  "nbformat": 4,
  "nbformat_minor": 0
}